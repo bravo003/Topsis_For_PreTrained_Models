{
  "nbformat": 4,
  "nbformat_minor": 0,
  "metadata": {
    "colab": {
      "provenance": []
    },
    "kernelspec": {
      "name": "python3",
      "display_name": "Python 3"
    },
    "language_info": {
      "name": "python"
    }
  },
  "cells": [
    {
      "cell_type": "code",
      "source": [
        "pip install Topsis-Naman-102116058"
      ],
      "metadata": {
        "colab": {
          "base_uri": "https://localhost:8080/"
        },
        "id": "glvNOK3PRXl9",
        "outputId": "e6fa7f8d-2d46-43b3-d892-74f7edbfeb06"
      },
      "execution_count": 41,
      "outputs": [
        {
          "output_type": "stream",
          "name": "stdout",
          "text": [
            "Requirement already satisfied: Topsis-Naman-102116058 in /usr/local/lib/python3.10/dist-packages (1.0.6)\n",
            "Requirement already satisfied: pandas in /usr/local/lib/python3.10/dist-packages (from Topsis-Naman-102116058) (1.5.3)\n",
            "Requirement already satisfied: numpy in /usr/local/lib/python3.10/dist-packages (from Topsis-Naman-102116058) (1.23.5)\n",
            "Requirement already satisfied: python-dateutil>=2.8.1 in /usr/local/lib/python3.10/dist-packages (from pandas->Topsis-Naman-102116058) (2.8.2)\n",
            "Requirement already satisfied: pytz>=2020.1 in /usr/local/lib/python3.10/dist-packages (from pandas->Topsis-Naman-102116058) (2023.4)\n",
            "Requirement already satisfied: six>=1.5 in /usr/local/lib/python3.10/dist-packages (from python-dateutil>=2.8.1->pandas->Topsis-Naman-102116058) (1.16.0)\n"
          ]
        }
      ]
    },
    {
      "cell_type": "code",
      "source": [
        "pip install sentence_transformers"
      ],
      "metadata": {
        "colab": {
          "base_uri": "https://localhost:8080/"
        },
        "id": "fsK2oPWaN1UB",
        "outputId": "4d0b3e8e-d9fd-4a23-afd6-a9fe47215812"
      },
      "execution_count": 42,
      "outputs": [
        {
          "output_type": "stream",
          "name": "stdout",
          "text": [
            "Requirement already satisfied: sentence_transformers in /usr/local/lib/python3.10/dist-packages (2.3.1)\n",
            "Requirement already satisfied: transformers<5.0.0,>=4.32.0 in /usr/local/lib/python3.10/dist-packages (from sentence_transformers) (4.35.2)\n",
            "Requirement already satisfied: tqdm in /usr/local/lib/python3.10/dist-packages (from sentence_transformers) (4.66.1)\n",
            "Requirement already satisfied: torch>=1.11.0 in /usr/local/lib/python3.10/dist-packages (from sentence_transformers) (2.1.0+cu121)\n",
            "Requirement already satisfied: numpy in /usr/local/lib/python3.10/dist-packages (from sentence_transformers) (1.23.5)\n",
            "Requirement already satisfied: scikit-learn in /usr/local/lib/python3.10/dist-packages (from sentence_transformers) (1.2.2)\n",
            "Requirement already satisfied: scipy in /usr/local/lib/python3.10/dist-packages (from sentence_transformers) (1.11.4)\n",
            "Requirement already satisfied: nltk in /usr/local/lib/python3.10/dist-packages (from sentence_transformers) (3.8.1)\n",
            "Requirement already satisfied: sentencepiece in /usr/local/lib/python3.10/dist-packages (from sentence_transformers) (0.1.99)\n",
            "Requirement already satisfied: huggingface-hub>=0.15.1 in /usr/local/lib/python3.10/dist-packages (from sentence_transformers) (0.20.3)\n",
            "Requirement already satisfied: Pillow in /usr/local/lib/python3.10/dist-packages (from sentence_transformers) (9.4.0)\n",
            "Requirement already satisfied: filelock in /usr/local/lib/python3.10/dist-packages (from huggingface-hub>=0.15.1->sentence_transformers) (3.13.1)\n",
            "Requirement already satisfied: fsspec>=2023.5.0 in /usr/local/lib/python3.10/dist-packages (from huggingface-hub>=0.15.1->sentence_transformers) (2023.6.0)\n",
            "Requirement already satisfied: requests in /usr/local/lib/python3.10/dist-packages (from huggingface-hub>=0.15.1->sentence_transformers) (2.31.0)\n",
            "Requirement already satisfied: pyyaml>=5.1 in /usr/local/lib/python3.10/dist-packages (from huggingface-hub>=0.15.1->sentence_transformers) (6.0.1)\n",
            "Requirement already satisfied: typing-extensions>=3.7.4.3 in /usr/local/lib/python3.10/dist-packages (from huggingface-hub>=0.15.1->sentence_transformers) (4.5.0)\n",
            "Requirement already satisfied: packaging>=20.9 in /usr/local/lib/python3.10/dist-packages (from huggingface-hub>=0.15.1->sentence_transformers) (23.2)\n",
            "Requirement already satisfied: sympy in /usr/local/lib/python3.10/dist-packages (from torch>=1.11.0->sentence_transformers) (1.12)\n",
            "Requirement already satisfied: networkx in /usr/local/lib/python3.10/dist-packages (from torch>=1.11.0->sentence_transformers) (3.2.1)\n",
            "Requirement already satisfied: jinja2 in /usr/local/lib/python3.10/dist-packages (from torch>=1.11.0->sentence_transformers) (3.1.3)\n",
            "Requirement already satisfied: triton==2.1.0 in /usr/local/lib/python3.10/dist-packages (from torch>=1.11.0->sentence_transformers) (2.1.0)\n",
            "Requirement already satisfied: regex!=2019.12.17 in /usr/local/lib/python3.10/dist-packages (from transformers<5.0.0,>=4.32.0->sentence_transformers) (2023.6.3)\n",
            "Requirement already satisfied: tokenizers<0.19,>=0.14 in /usr/local/lib/python3.10/dist-packages (from transformers<5.0.0,>=4.32.0->sentence_transformers) (0.15.1)\n",
            "Requirement already satisfied: safetensors>=0.3.1 in /usr/local/lib/python3.10/dist-packages (from transformers<5.0.0,>=4.32.0->sentence_transformers) (0.4.2)\n",
            "Requirement already satisfied: click in /usr/local/lib/python3.10/dist-packages (from nltk->sentence_transformers) (8.1.7)\n",
            "Requirement already satisfied: joblib in /usr/local/lib/python3.10/dist-packages (from nltk->sentence_transformers) (1.3.2)\n",
            "Requirement already satisfied: threadpoolctl>=2.0.0 in /usr/local/lib/python3.10/dist-packages (from scikit-learn->sentence_transformers) (3.2.0)\n",
            "Requirement already satisfied: MarkupSafe>=2.0 in /usr/local/lib/python3.10/dist-packages (from jinja2->torch>=1.11.0->sentence_transformers) (2.1.4)\n",
            "Requirement already satisfied: charset-normalizer<4,>=2 in /usr/local/lib/python3.10/dist-packages (from requests->huggingface-hub>=0.15.1->sentence_transformers) (3.3.2)\n",
            "Requirement already satisfied: idna<4,>=2.5 in /usr/local/lib/python3.10/dist-packages (from requests->huggingface-hub>=0.15.1->sentence_transformers) (3.6)\n",
            "Requirement already satisfied: urllib3<3,>=1.21.1 in /usr/local/lib/python3.10/dist-packages (from requests->huggingface-hub>=0.15.1->sentence_transformers) (2.0.7)\n",
            "Requirement already satisfied: certifi>=2017.4.17 in /usr/local/lib/python3.10/dist-packages (from requests->huggingface-hub>=0.15.1->sentence_transformers) (2023.11.17)\n",
            "Requirement already satisfied: mpmath>=0.19 in /usr/local/lib/python3.10/dist-packages (from sympy->torch>=1.11.0->sentence_transformers) (1.3.0)\n"
          ]
        }
      ]
    },
    {
      "cell_type": "code",
      "execution_count": 43,
      "metadata": {
        "colab": {
          "base_uri": "https://localhost:8080/"
        },
        "id": "0TN1Tf05Mwkd",
        "outputId": "0eab95a1-e80e-42d1-dc08-8dd93741d359"
      },
      "outputs": [
        {
          "output_type": "stream",
          "name": "stdout",
          "text": [
            "Similarity scores have been saved to distance_results.csv\n"
          ]
        }
      ],
      "source": [
        "from sentence_transformers import SentenceTransformer, util\n",
        "import torch\n",
        "import csv\n",
        "\n",
        "def calculate_distances(query_embedding, passage_embeddings):\n",
        "    cosine_similarity_scores = util.pytorch_cos_sim(query_embedding, passage_embeddings)\n",
        "    euclidean_distances = torch.cdist(query_embedding.unsqueeze(0), passage_embeddings.unsqueeze(0), p=2)\n",
        "    manhattan_distances = torch.cdist(query_embedding.unsqueeze(0), passage_embeddings.unsqueeze(0), p=1)\n",
        "    minkowski_distances = torch.cdist(query_embedding.unsqueeze(0), passage_embeddings.unsqueeze(0), p=3)\n",
        "    return cosine_similarity_scores, euclidean_distances, manhattan_distances, minkowski_distances\n",
        "\n",
        "def normalize_and_save_results(model, model_name, query, passages, results):\n",
        "    query_embedding = model.encode(query, convert_to_tensor=True)\n",
        "    passage_embeddings = model.encode(passages, convert_to_tensor=True)\n",
        "\n",
        "    query_embedding /= query_embedding.norm(dim=-1, keepdim=True)\n",
        "    passage_embeddings /= passage_embeddings.norm(dim=-1, keepdim=True)\n",
        "\n",
        "    cosine_similarity_scores, euclidean_distances, manhattan_distances, minkowski_distances = calculate_distances(query_embedding, passage_embeddings)\n",
        "\n",
        "    model_results = {\n",
        "        \"Model\": model_name,\n",
        "        \"Cosine Similarity\": max(cosine_similarity_scores[0].tolist()),\n",
        "        \"Euclidean Distance\": euclidean_distances.min().item(),\n",
        "        \"Manhattan Distance\": manhattan_distances.min().item(),\n",
        "        \"Minkowski Distance\": minkowski_distances.min().item(),\n",
        "    }\n",
        "\n",
        "    results.append(model_results)\n",
        "\n",
        "def scale_distances_and_save_csv(results):\n",
        "    min_euclidean_distance = min(result[\"Euclidean Distance\"] for result in results)\n",
        "    max_euclidean_distance = max(result[\"Euclidean Distance\"] for result in results)\n",
        "\n",
        "    min_manhattan_distance = min(result[\"Manhattan Distance\"] for result in results)\n",
        "    max_manhattan_distance = max(result[\"Manhattan Distance\"] for result in results)\n",
        "\n",
        "    min_minkowski_distance = min(result[\"Minkowski Distance\"] for result in results)\n",
        "    max_minkowski_distance = max(result[\"Minkowski Distance\"] for result in results)\n",
        "\n",
        "    for result in results:\n",
        "        result[\"Scaled Euclidean Distance\"] = (result[\"Euclidean Distance\"] - min_euclidean_distance) / (max_euclidean_distance - min_euclidean_distance)\n",
        "        result[\"Scaled Manhattan Distance\"] = (result[\"Manhattan Distance\"] - min_manhattan_distance) / (max_manhattan_distance - min_manhattan_distance)\n",
        "        result[\"Scaled Minkowski Distance\"] = (result[\"Minkowski Distance\"] - min_minkowski_distance) / (max_minkowski_distance - min_minkowski_distance)\n",
        "\n",
        "    fieldnames = ['Model', 'Cosine Similarity', 'Euclidean Distance', 'Manhattan Distance', 'Minkowski Distance', 'Scaled Euclidean Distance', 'Scaled Manhattan Distance', 'Scaled Minkowski Distance']\n",
        "    csv_file_path = 'distance_results.csv'\n",
        "\n",
        "    with open(csv_file_path, 'w', newline='') as csv_file:\n",
        "        csv_writer = csv.DictWriter(csv_file, fieldnames=fieldnames)\n",
        "        csv_writer.writeheader()\n",
        "        csv_writer.writerows(results)\n",
        "\n",
        "    print(f\"Similarity scores have been saved to {csv_file_path}\")\n",
        "\n",
        "if __name__ == \"__main__\":\n",
        "    models = [\n",
        "        SentenceTransformer(\"paraphrase-distilroberta-base-v1\"),\n",
        "        SentenceTransformer(\"stsb-mpnet-base-v2\"),\n",
        "        SentenceTransformer(\"quora-distilbert-base\"),\n",
        "        SentenceTransformer(\"paraphrase-MiniLM-L12-v2\"),\n",
        "        SentenceTransformer(\"msmarco-distilbert-base-v3\")\n",
        "    ]\n",
        "\n",
        "    query = 'A cat is sleeping on the windowsill'\n",
        "    passages = ['The lazy dog is lying on the couch', 'A cute kitten is napping in the sun', 'Birds are chirping outside the house']\n",
        "\n",
        "    results = []\n",
        "\n",
        "    for i, model in enumerate(models, start=1):\n",
        "        model_name = f\"M{i}\"\n",
        "        normalize_and_save_results(model, model_name, query, passages, results)\n",
        "\n",
        "    scale_distances_and_save_csv(results)\n"
      ]
    },
    {
      "cell_type": "code",
      "source": [
        "from Topsis_Naman_102116058.topsis import topsis\n",
        "inputFile=\"distance_results.csv\"\n",
        "weights=\"1,1,1,1,1,1,1\"\n",
        "impacts=\"+,-,-,-,-,-,-\"\n",
        "resultFile=\"result_topsis.csv\"\n",
        "topsis(inputFile, weights, impacts, resultFile)"
      ],
      "metadata": {
        "colab": {
          "base_uri": "https://localhost:8080/"
        },
        "id": "eTSorhSeOrRh",
        "outputId": "fe143c35-0b58-46cd-ddff-c3e601b64bfc"
      },
      "execution_count": 44,
      "outputs": [
        {
          "output_type": "stream",
          "name": "stdout",
          "text": [
            "  Model  Cosine Similarity  Euclidean Distance  Manhattan Distance  \\\n",
            "0    M1           0.602293            0.891859           19.253952   \n",
            "1    M2           0.625652            0.865272           18.560080   \n",
            "2    M3           0.663817            0.819980           17.598669   \n",
            "3    M4           0.506906            0.993070           15.315597   \n",
            "4    M5           0.470986            1.028605           22.886974   \n",
            "\n",
            "   Minkowski Distance  Scaled Euclidean Distance  Scaled Manhattan Distance  \\\n",
            "0            0.350494                   0.344539                   0.520164   \n",
            "1            0.349404                   0.217099                   0.428519   \n",
            "2            0.326562                   0.000000                   0.301540   \n",
            "3            0.432072                   0.829672                   0.000000   \n",
            "4            0.393147                   1.000000                   1.000000   \n",
            "\n",
            "   Scaled Minkowski Distance  \n",
            "0                   0.226823  \n",
            "1                   0.216488  \n",
            "2                   0.000000  \n",
            "3                   1.000000  \n",
            "4                   0.631077  \n",
            "   Cosine Similarity  Euclidean Distance  Manhattan Distance  \\\n",
            "0           0.465563            0.432072            0.455942   \n",
            "1           0.483619            0.419192            0.439511   \n",
            "2           0.513119            0.397249            0.416744   \n",
            "3           0.391830            0.481105            0.362680   \n",
            "4           0.364064            0.498320            0.541973   \n",
            "\n",
            "   Minkowski Distance  Scaled Euclidean Distance  Scaled Manhattan Distance  \\\n",
            "0            0.421085                   0.253023                   0.418464   \n",
            "1            0.419775                   0.159433                   0.344738   \n",
            "2            0.392333                   0.000000                   0.242584   \n",
            "3            0.519093                   0.609297                   0.000000   \n",
            "4            0.472328                   0.734383                   0.804485   \n",
            "\n",
            "   Scaled Minkowski Distance  \n",
            "0                   0.185412  \n",
            "1                   0.176964  \n",
            "2                   0.000000  \n",
            "3                   0.817431  \n",
            "4                   0.515862  \n",
            "[0.5131192  0.39724914 0.3626799  0.39233312 0.         0.\n",
            " 0.        ]\n",
            "[0.36406431 0.49832035 0.54197337 0.51909262 0.73438264 0.80448532\n",
            " 0.81743072]\n",
            "TOPSIS completed successfully. Result saved to result_topsis.csv\n"
          ]
        }
      ]
    },
    {
      "cell_type": "code",
      "source": [
        "import matplotlib.pyplot as plt\n",
        "import seaborn as sns\n",
        "import pandas as pd\n",
        "result_file = \"result_topsis.csv\"\n",
        "topsis_results = pd.read_csv(result_file)\n",
        "\n",
        "# Extracting the performance scores and alternatives\n",
        "topsis_scores = topsis_results['Topsis Score']\n",
        "models = topsis_results['Model']\n",
        "\n",
        "# Create a bar plot to visualize the performance scores\n",
        "plt.figure(figsize=(10, 6))\n",
        "sns.barplot(x=topsis_scores, y=models, palette=\"viridis\", orient='h')\n",
        "plt.title(\"TOPSIS Scores\")\n",
        "plt.xlabel(\"Topsis Score\")\n",
        "plt.ylabel(\"Models\")\n",
        "plt.show()"
      ],
      "metadata": {
        "colab": {
          "base_uri": "https://localhost:8080/",
          "height": 671
        },
        "id": "PO5L7RgkSygE",
        "outputId": "2226bef8-2558-44c2-c775-ae4b605e1711"
      },
      "execution_count": 45,
      "outputs": [
        {
          "output_type": "stream",
          "name": "stderr",
          "text": [
            "<ipython-input-45-784ec7ac487f>:13: FutureWarning: \n",
            "\n",
            "Passing `palette` without assigning `hue` is deprecated and will be removed in v0.14.0. Assign the `y` variable to `hue` and set `legend=False` for the same effect.\n",
            "\n",
            "  sns.barplot(x=topsis_scores, y=models, palette=\"viridis\", orient='h')\n"
          ]
        },
        {
          "output_type": "display_data",
          "data": {
            "text/plain": [
              "<Figure size 1000x600 with 1 Axes>"
            ],
            "image/png": "[encoded data removed]"
          },
          "metadata": {}
        }
      ]
    }
  ]
}